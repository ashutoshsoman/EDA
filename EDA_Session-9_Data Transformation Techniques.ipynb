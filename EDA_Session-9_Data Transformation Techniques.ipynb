{
 "cells": [
  {
   "cell_type": "markdown",
   "id": "db1ed2ba",
   "metadata": {},
   "source": [
    "**Data Transformation Techniques**\n",
    "\n",
    "- Generally used for to convert Normal distribution\n",
    "\n",
    "- Because all statistical math analysis by assumption Data follows Normal distribution\n",
    "\n",
    "- It is also avoid skew ness also\n",
    "\n",
    "- We have some important transformation \n",
    "\n",
    "    - Log transformation\n",
    "    \n",
    "    - Exponential transformation\n",
    "    \n",
    "    - Reciprocal transformation\n",
    "    \n",
    "    - Square root transformation\n",
    "    \n",
    "    - Power transformaton\n",
    "    \n",
    "    "
   ]
  },
  {
   "cell_type": "markdown",
   "id": "155be16f",
   "metadata": {},
   "source": [
    "$Step-1$\n",
    "\n",
    "**Read the required packages**"
   ]
  },
  {
   "cell_type": "code",
   "execution_count": 1,
   "id": "abaa7d9f",
   "metadata": {},
   "outputs": [],
   "source": [
    "import numpy as np\n",
    "import matplotlib.pyplot as plt"
   ]
  },
  {
   "cell_type": "markdown",
   "id": "b520b127",
   "metadata": {},
   "source": [
    "$Step-2$\n",
    "\n",
    "**Read the data**"
   ]
  },
  {
   "cell_type": "markdown",
   "id": "73a8e9d4",
   "metadata": {},
   "source": [
    "$Exponential-data$"
   ]
  },
  {
   "cell_type": "code",
   "execution_count": 2,
   "id": "e542d9fd",
   "metadata": {},
   "outputs": [
    {
     "data": {
      "text/plain": [
       "array([3.57645714, 0.45701262, 0.36380708, 0.65021855, 0.14204027,\n",
       "       1.22165698, 0.33590313, 0.0232194 , 1.89293601, 0.19725694])"
      ]
     },
     "execution_count": 2,
     "metadata": {},
     "output_type": "execute_result"
    }
   ],
   "source": [
    "exp_data=np.random.exponential(size=10000)\n",
    "exp_data[:10]\n",
    "\n",
    "# We are consider exponential data set with random 1k observations\n",
    "# using numpy package"
   ]
  },
  {
   "cell_type": "code",
   "execution_count": null,
   "id": "7f064e61",
   "metadata": {},
   "outputs": [],
   "source": [
    "plt.hist(exp_data,bins=30,label='Exponential')\n",
    "plt.legend()\n",
    "plt.show()"
   ]
  },
  {
   "cell_type": "markdown",
   "id": "1a46d425",
   "metadata": {},
   "source": [
    "$Norm-data$"
   ]
  },
  {
   "cell_type": "code",
   "execution_count": null,
   "id": "776a7e3e",
   "metadata": {},
   "outputs": [],
   "source": [
    "norm_data=np.random.normal(size=1000)\n",
    "plt.hist(norm_data)"
   ]
  },
  {
   "cell_type": "markdown",
   "id": "144f862d",
   "metadata": {},
   "source": [
    "$Step-3$\n",
    "\n",
    "**Log Transformaton**"
   ]
  },
  {
   "cell_type": "markdown",
   "id": "93164cc7",
   "metadata": {},
   "source": [
    "- np.log is used for log transformation\n",
    "\n",
    "- Generally log transformation will not convert data into normal\n",
    "\n",
    "- It avoids skew ness\n",
    "\n",
    "- np.log means natural logorithm base=e"
   ]
  },
  {
   "cell_type": "code",
   "execution_count": null,
   "id": "d96f52a7",
   "metadata": {},
   "outputs": [],
   "source": [
    "log_data=np.log(exp_data)\n",
    "log_data[:10]"
   ]
  },
  {
   "cell_type": "code",
   "execution_count": null,
   "id": "ad7fc14c",
   "metadata": {},
   "outputs": [],
   "source": [
    "exp_data[:10]"
   ]
  },
  {
   "cell_type": "code",
   "execution_count": null,
   "id": "aab46406",
   "metadata": {},
   "outputs": [],
   "source": [
    "plt.hist(log_data,bins=40,label='Log data')\n",
    "plt.legend()\n",
    "plt.show()"
   ]
  },
  {
   "cell_type": "code",
   "execution_count": null,
   "id": "69480ec8",
   "metadata": {},
   "outputs": [],
   "source": [
    "plt.figure(figsize=(10,5))\n",
    "plt.subplot(1,2,1).hist(exp_data,\n",
    "                        bins=40,\n",
    "                        label='Exponential')\n",
    "plt.legend()\n",
    "plt.subplot(1,2,2).hist(log_data,\n",
    "                        bins=40,\n",
    "                        label='Log Transformation')\n",
    "plt.legend()\n",
    "plt.show()"
   ]
  },
  {
   "cell_type": "markdown",
   "id": "0c1007a1",
   "metadata": {},
   "source": [
    "$Step-4$\n",
    "\n",
    "**Reciprocal transformation**"
   ]
  },
  {
   "cell_type": "markdown",
   "id": "13e30eda",
   "metadata": {},
   "source": [
    "- Reciprocal transformation fails when data has zero value"
   ]
  },
  {
   "cell_type": "code",
   "execution_count": null,
   "id": "fd121d50",
   "metadata": {},
   "outputs": [],
   "source": [
    "# Take the exponential data\n",
    "# rec_data= 1/exp_data\n",
    "# plot the histogram and check it"
   ]
  },
  {
   "cell_type": "code",
   "execution_count": null,
   "id": "23b1e58a",
   "metadata": {},
   "outputs": [],
   "source": [
    "rec_data=np.reciprocal(exp_data)\n",
    "plt.hist(rec_data,bins=40,label='Reciprocal Data')\n",
    "plt.legend()\n",
    "plt.show()"
   ]
  },
  {
   "cell_type": "code",
   "execution_count": null,
   "id": "4c6b776d",
   "metadata": {},
   "outputs": [],
   "source": [
    "exp_data[:2]"
   ]
  },
  {
   "cell_type": "code",
   "execution_count": null,
   "id": "a89ab85b",
   "metadata": {},
   "outputs": [],
   "source": [
    "1/1.687,1/0.88"
   ]
  },
  {
   "cell_type": "markdown",
   "id": "4eb6d38b",
   "metadata": {},
   "source": [
    "$Step-5$\n",
    "\n",
    "**Square root transformation**"
   ]
  },
  {
   "cell_type": "code",
   "execution_count": null,
   "id": "f41bc6db",
   "metadata": {},
   "outputs": [],
   "source": [
    "print(25**2) # square, \n",
    "print(25**(1/2)) # square root\n",
    "print(np.sqrt(25))"
   ]
  },
  {
   "cell_type": "code",
   "execution_count": null,
   "id": "3a1fe586",
   "metadata": {},
   "outputs": [],
   "source": [
    "sqrt_data=np.sqrt(exp_data)"
   ]
  },
  {
   "cell_type": "code",
   "execution_count": null,
   "id": "3f9be7f0",
   "metadata": {},
   "outputs": [],
   "source": [
    "plt.figure(figsize=(10,5))\n",
    "plt.subplot(1,2,1).hist(exp_data,\n",
    "                        bins=40,\n",
    "                        label='Exponential')\n",
    "plt.legend()\n",
    "plt.subplot(1,2,2).hist(sqrt_data,\n",
    "                        bins=40,\n",
    "                        label='Sqaure root Transformation')\n",
    "plt.legend()\n",
    "plt.show()"
   ]
  },
  {
   "cell_type": "code",
   "execution_count": null,
   "id": "e6b724ae",
   "metadata": {},
   "outputs": [],
   "source": [
    "import seaborn as sns\n",
    "sns.displot(sqrt_data)"
   ]
  },
  {
   "cell_type": "markdown",
   "id": "0b729ca5",
   "metadata": {},
   "source": [
    "$Step-6$\n",
    "\n",
    "**Power transformer**\n",
    "\n",
    "- It is related to sklearn package\n",
    "\n",
    "- Package name: sklearn.preprocessing\n",
    "    \n",
    "- Method name: Power Transformer\n",
    "    \n",
    "- Inside Box-Cox , yeo-jhonson"
   ]
  },
  {
   "cell_type": "code",
   "execution_count": 21,
   "id": "2bd7baf2",
   "metadata": {},
   "outputs": [
    {
     "data": {
      "text/plain": [
       "array([3.57645714, 0.45701262, 0.36380708, ..., 1.27247759, 0.4684463 ,\n",
       "       2.48816533])"
      ]
     },
     "execution_count": 21,
     "metadata": {},
     "output_type": "execute_result"
    }
   ],
   "source": [
    "exp_data"
   ]
  },
  {
   "cell_type": "code",
   "execution_count": 26,
   "id": "c271eeb2",
   "metadata": {},
   "outputs": [],
   "source": [
    "from sklearn.preprocessing import PowerTransformer\n",
    "pt=PowerTransformer()\n",
    "pt_data=pt.fit([exp_data]).transform([exp_data])"
   ]
  },
  {
   "cell_type": "code",
   "execution_count": 27,
   "id": "b50e56b8",
   "metadata": {},
   "outputs": [
    {
     "data": {
      "text/plain": [
       "array([[-4.44089210e-16,  5.55111512e-17,  5.55111512e-17, ...,\n",
       "         0.00000000e+00,  0.00000000e+00,  0.00000000e+00]])"
      ]
     },
     "execution_count": 27,
     "metadata": {},
     "output_type": "execute_result"
    }
   ],
   "source": [
    "pt_data"
   ]
  },
  {
   "cell_type": "code",
   "execution_count": 28,
   "id": "07a96644",
   "metadata": {},
   "outputs": [
    {
     "data": {
      "image/png": "[encoded data removed]",
      "text/plain": [
       "<Figure size 640x480 with 1 Axes>"
      ]
     },
     "metadata": {},
     "output_type": "display_data"
    }
   ],
   "source": [
    "plt.hist(pt_data[0])\n",
    "plt.show()"
   ]
  },
  {
   "cell_type": "code",
   "execution_count": null,
   "id": "01f16a82",
   "metadata": {},
   "outputs": [],
   "source": []
  },
  {
   "cell_type": "code",
   "execution_count": null,
   "id": "45aac0f6",
   "metadata": {},
   "outputs": [],
   "source": []
  }
 ],
 "metadata": {
  "kernelspec": {
   "display_name": "Python 3 (ipykernel)",
   "language": "python",
   "name": "python3"
  },
  "language_info": {
   "codemirror_mode": {
    "name": "ipython",
    "version": 3
   },
   "file_extension": ".py",
   "mimetype": "text/x-python",
   "name": "python",
   "nbconvert_exporter": "python",
   "pygments_lexer": "ipython3",
   "version": "3.11.5"
  }
 },
 "nbformat": 4,
 "nbformat_minor": 5
}
